{
 "cells": [
  {
   "cell_type": "markdown",
   "metadata": {},
   "source": [
    "# $sigmoid$逻辑回归实战"
   ]
  },
  {
   "cell_type": "code",
   "execution_count": 1,
   "metadata": {},
   "outputs": [],
   "source": [
    "import numpy as np\n",
    "import matplotlib.pyplot as plt"
   ]
  },
  {
   "cell_type": "code",
   "execution_count": 2,
   "metadata": {},
   "outputs": [],
   "source": [
    "np.random.seed(0)\n",
    "Num = 100"
   ]
  },
  {
   "cell_type": "code",
   "execution_count": 3,
   "metadata": {},
   "outputs": [],
   "source": [
    "x_1 = np.random.normal(6, 1, size = (Num))\n",
    "x_2 = np.random.normal(3, 1, size = (Num))\n",
    "y = np.ones(Num)\n",
    "c_1 = np.array([x_1, x_2, y])"
   ]
  },
  {
   "cell_type": "code",
   "execution_count": 4,
   "metadata": {},
   "outputs": [
    {
     "data": {
      "text/plain": [
       "(3, 100)"
      ]
     },
     "execution_count": 4,
     "metadata": {},
     "output_type": "execute_result"
    }
   ],
   "source": [
    "x_1 = np.random.normal(3, 1, size = (Num))\n",
    "x_2 = np.random.normal(6, 1, size = (Num))\n",
    "y = np.zeros(Num)\n",
    "c_0 = np.array([x_1, x_2, y])\n",
    "c_0.shape"
   ]
  },
  {
   "cell_type": "code",
   "execution_count": 5,
   "metadata": {},
   "outputs": [],
   "source": [
    "c_1 = c_1.T\n",
    "c_0 = c_0.T"
   ]
  },
  {
   "cell_type": "code",
   "execution_count": 6,
   "metadata": {},
   "outputs": [
    {
     "data": {
      "text/plain": [
       "<matplotlib.collections.PathCollection at 0x2438361bfc8>"
      ]
     },
     "execution_count": 6,
     "metadata": {},
     "output_type": "execute_result"
    },
    {
     "data": {
      "image/png": "[encoded data removed]",
      "text/plain": [
       "<Figure size 432x288 with 1 Axes>"
      ]
     },
     "metadata": {
      "needs_background": "light"
     },
     "output_type": "display_data"
    }
   ],
   "source": [
    "plt.scatter(c_1[:, 0], c_1[:, 1])\n",
    "plt.scatter(c_0[:, 0], c_0[:, 1], marker=\"+\")"
   ]
  },
  {
   "cell_type": "code",
   "execution_count": 7,
   "metadata": {},
   "outputs": [
    {
     "data": {
      "text/plain": [
       "(200, 3)"
      ]
     },
     "execution_count": 7,
     "metadata": {},
     "output_type": "execute_result"
    }
   ],
   "source": [
    "All_data = np.concatenate((c_0, c_1), axis = 0)\n",
    "np.random.shuffle(All_data)\n",
    "All_data.shape"
   ]
  },
  {
   "cell_type": "code",
   "execution_count": 8,
   "metadata": {},
   "outputs": [
    {
     "data": {
      "text/plain": [
       "((150, 2), (150,))"
      ]
     },
     "execution_count": 8,
     "metadata": {},
     "output_type": "execute_result"
    }
   ],
   "source": [
    "train_data_X = All_data[:150, :2]\n",
    "train_data_y = All_data[:150, -1]\n",
    "test_data_X = All_data[150:, :2]\n",
    "test_data_y = All_data[150:, -1]\n",
    "train_data_X.shape, train_data_y.shape"
   ]
  },
  {
   "cell_type": "markdown",
   "metadata": {},
   "source": [
    "# 建立回归模型\n",
    "$y = {w_1 * x_1} + {w_2 * x_2}$"
   ]
  },
  {
   "cell_type": "code",
   "execution_count": 9,
   "metadata": {},
   "outputs": [
    {
     "data": {
      "text/plain": [
       "array([[0.05853492],\n",
       "       [0.4706209 ]])"
      ]
     },
     "execution_count": 9,
     "metadata": {},
     "output_type": "execute_result"
    }
   ],
   "source": [
    "W = np.random.rand(2, 1)\n",
    "W"
   ]
  },
  {
   "cell_type": "code",
   "execution_count": 10,
   "metadata": {},
   "outputs": [
    {
     "data": {
      "text/plain": [
       "[<matplotlib.lines.Line2D at 0x24383ff2588>]"
      ]
     },
     "execution_count": 10,
     "metadata": {},
     "output_type": "execute_result"
    },
    {
     "data": {
      "image/png": "[encoded data removed]",
      "text/plain": [
       "<Figure size 432x288 with 1 Axes>"
      ]
     },
     "metadata": {
      "needs_background": "light"
     },
     "output_type": "display_data"
    }
   ],
   "source": [
    "# 因为y = 0\n",
    "# 所以w1 * x1 + w2 * x2 = 0\n",
    "# 在运算过程中把x1看成x, 把x2看成y\n",
    "# y = -(w1 * x1) / w2\n",
    "x = np.arange(10)\n",
    "y = -(W[0] * x) / W[1]\n",
    "plt.scatter(c_1[:, 0], c_1[:, 1])\n",
    "plt.scatter(c_0[:, 0], c_0[:, 1], marker=\"+\")\n",
    "plt.plot(x, y)"
   ]
  },
  {
   "cell_type": "code",
   "execution_count": 11,
   "metadata": {},
   "outputs": [],
   "source": [
    "# 定义损失函数\n",
    "def crossEntropy(y, y_hat):\n",
    "    return -np.mean(  y * np.log(y_hat) + (1 - y) * np.log(1 - y_hat) )"
   ]
  },
  {
   "cell_type": "code",
   "execution_count": 12,
   "metadata": {},
   "outputs": [],
   "source": [
    "# y_hat = sigmoid(W.T * x)\n",
    "def sigmoid(z):\n",
    "    return 1. / (1. + np.exp(-z))"
   ]
  },
  {
   "cell_type": "code",
   "execution_count": 13,
   "metadata": {},
   "outputs": [
    {
     "data": {
      "text/plain": [
       "((2, 1), (150, 2))"
      ]
     },
     "execution_count": 13,
     "metadata": {},
     "output_type": "execute_result"
    }
   ],
   "source": [
    "W.shape, train_data_X.shape"
   ]
  },
  {
   "cell_type": "code",
   "execution_count": 14,
   "metadata": {},
   "outputs": [
    {
     "name": "stdout",
     "output_type": "stream",
     "text": [
      "i = 1, loss = 1.560843, W[0] = 0.056722, W[1] = 0.465509\n",
      "i = 11, loss = 1.489196, W[0] = 0.048025, W[1] = 0.440250\n",
      "i = 21, loss = 1.421265, W[0] = 0.039973, W[1] = 0.415520\n",
      "i = 31, loss = 1.357182, W[0] = 0.032601, W[1] = 0.391364\n",
      "i = 41, loss = 1.297032, W[0] = 0.025936, W[1] = 0.367826\n",
      "i = 51, loss = 1.240846, W[0] = 0.020001, W[1] = 0.344944\n",
      "i = 61, loss = 1.188601, W[0] = 0.014812, W[1] = 0.322752\n",
      "i = 71, loss = 1.140220, W[0] = 0.010374, W[1] = 0.301277\n",
      "i = 81, loss = 1.095577, W[0] = 0.006686, W[1] = 0.280541\n",
      "i = 91, loss = 1.054504, W[0] = 0.003738, W[1] = 0.260557\n",
      "i = 101, loss = 1.016796, W[0] = 0.001514, W[1] = 0.241332\n",
      "i = 111, loss = 0.982225, W[0] = -0.000009, W[1] = 0.222864\n",
      "i = 121, loss = 0.950546, W[0] = -0.000860, W[1] = 0.205146\n",
      "i = 131, loss = 0.921507, W[0] = -0.001073, W[1] = 0.188164\n",
      "i = 141, loss = 0.894858, W[0] = -0.000684, W[1] = 0.171899\n",
      "i = 151, loss = 0.870357, W[0] = 0.000268, W[1] = 0.156325\n",
      "i = 161, loss = 0.847773, W[0] = 0.001743, W[1] = 0.141417\n",
      "i = 171, loss = 0.826894, W[0] = 0.003701, W[1] = 0.127145\n",
      "i = 181, loss = 0.807524, W[0] = 0.006102, W[1] = 0.113476\n",
      "i = 191, loss = 0.789486, W[0] = 0.008905, W[1] = 0.100378\n",
      "i = 201, loss = 0.772624, W[0] = 0.012074, W[1] = 0.087819\n",
      "i = 211, loss = 0.756799, W[0] = 0.015572, W[1] = 0.075767\n",
      "i = 221, loss = 0.741891, W[0] = 0.019365, W[1] = 0.064190\n",
      "i = 231, loss = 0.727793, W[0] = 0.023421, W[1] = 0.053057\n",
      "i = 241, loss = 0.714416, W[0] = 0.027709, W[1] = 0.042340\n",
      "i = 251, loss = 0.701681, W[0] = 0.032202, W[1] = 0.032011\n",
      "i = 261, loss = 0.689521, W[0] = 0.036874, W[1] = 0.022043\n",
      "i = 271, loss = 0.677878, W[0] = 0.041702, W[1] = 0.012413\n",
      "i = 281, loss = 0.666703, W[0] = 0.046663, W[1] = 0.003097\n",
      "i = 291, loss = 0.655955, W[0] = 0.051739, W[1] = -0.005926\n",
      "i = 301, loss = 0.645597, W[0] = 0.056911, W[1] = -0.014675\n",
      "i = 311, loss = 0.635598, W[0] = 0.062163, W[1] = -0.023168\n",
      "i = 321, loss = 0.625931, W[0] = 0.067481, W[1] = -0.031423\n",
      "i = 331, loss = 0.616574, W[0] = 0.072851, W[1] = -0.039455\n",
      "i = 341, loss = 0.607506, W[0] = 0.078262, W[1] = -0.047277\n",
      "i = 351, loss = 0.598710, W[0] = 0.083702, W[1] = -0.054904\n",
      "i = 361, loss = 0.590171, W[0] = 0.089163, W[1] = -0.062346\n",
      "i = 371, loss = 0.581874, W[0] = 0.094635, W[1] = -0.069616\n",
      "i = 381, loss = 0.573807, W[0] = 0.100111, W[1] = -0.076722\n",
      "i = 391, loss = 0.565960, W[0] = 0.105585, W[1] = -0.083675\n",
      "i = 401, loss = 0.558323, W[0] = 0.111050, W[1] = -0.090483\n",
      "i = 411, loss = 0.550887, W[0] = 0.116502, W[1] = -0.097153\n",
      "i = 421, loss = 0.543644, W[0] = 0.121934, W[1] = -0.103694\n",
      "i = 431, loss = 0.536586, W[0] = 0.127345, W[1] = -0.110110\n",
      "i = 441, loss = 0.529706, W[0] = 0.132729, W[1] = -0.116410\n",
      "i = 451, loss = 0.522997, W[0] = 0.138084, W[1] = -0.122597\n",
      "i = 461, loss = 0.516454, W[0] = 0.143407, W[1] = -0.128677\n",
      "i = 471, loss = 0.510071, W[0] = 0.148696, W[1] = -0.134656\n",
      "i = 481, loss = 0.503842, W[0] = 0.153948, W[1] = -0.140537\n",
      "i = 491, loss = 0.497762, W[0] = 0.159163, W[1] = -0.146324\n"
     ]
    }
   ],
   "source": [
    "lr = 0.001\n",
    "n = 1e4\n",
    "for i in range(500):\n",
    "    y_hat = sigmoid( np.dot(W.T, train_data_X.T) )\n",
    "    loss = crossEntropy(train_data_y, y_hat)\n",
    "    # 计算梯度\n",
    "    grad = -np.mean( (train_data_X * (train_data_y - y_hat).T), axis = 0 )\n",
    "    # 更新梯度\n",
    "    W = W - (lr * grad).reshape(2, 1)\n",
    "    if i % 10 == 1:\n",
    "        print(\"i = %d, loss = %f, W[0] = %f, W[1] = %f\"%(i, loss, W[0], W[1]))\n",
    "    if loss < 0.1:\n",
    "        break"
   ]
  },
  {
   "cell_type": "code",
   "execution_count": 15,
   "metadata": {},
   "outputs": [
    {
     "data": {
      "text/plain": [
       "[<matplotlib.lines.Line2D at 0x2438406a108>]"
      ]
     },
     "execution_count": 15,
     "metadata": {},
     "output_type": "execute_result"
    },
    {
     "data": {
      "image/png": "[encoded data removed]",
      "text/plain": [
       "<Figure size 432x288 with 1 Axes>"
      ]
     },
     "metadata": {
      "needs_background": "light"
     },
     "output_type": "display_data"
    }
   ],
   "source": [
    "x = np.arange(10)\n",
    "y = -(W[0] * x) / W[1]\n",
    "plt.scatter(c_1[:, 0], c_1[:, 1])\n",
    "plt.scatter(c_0[:, 0], c_0[:, 1], marker=\"+\")\n",
    "plt.plot(x, y)"
   ]
  },
  {
   "cell_type": "code",
   "execution_count": null,
   "metadata": {},
   "outputs": [],
   "source": []
  }
 ],
 "metadata": {
  "kernelspec": {
   "display_name": "Python 3",
   "language": "python",
   "name": "python3"
  },
  "language_info": {
   "codemirror_mode": {
    "name": "ipython",
    "version": 3
   },
   "file_extension": ".py",
   "mimetype": "text/x-python",
   "name": "python",
   "nbconvert_exporter": "python",
   "pygments_lexer": "ipython3",
   "version": "3.7.6"
  }
 },
 "nbformat": 4,
 "nbformat_minor": 4
}

{
 "cells": [
  {
   "cell_type": "markdown",
   "metadata": {},
   "source": [
    "# softmax实现MINIST手写识别"
   ]
  },
  {
   "cell_type": "code",
   "execution_count": 1,
   "metadata": {},
   "outputs": [],
   "source": [
    "import numpy as np\n",
    "import matplotlib.pyplot as plt\n",
    "np.random.seed(0)"
   ]
  },
  {
   "cell_type": "code",
   "execution_count": 2,
   "metadata": {},
   "outputs": [
    {
     "name": "stdout",
     "output_type": "stream",
     "text": [
      "2.0.0\n"
     ]
    }
   ],
   "source": [
    "import tensorflow as tf\n",
    "from tensorflow import keras\n",
    "from tensorflow.keras import datasets\n",
    "print(tf.__version__)"
   ]
  },
  {
   "cell_type": "code",
   "execution_count": 3,
   "metadata": {},
   "outputs": [
    {
     "data": {
      "text/plain": [
       "((60000, 28, 28), (60000,), (10000, 28, 28), (10000,))"
      ]
     },
     "execution_count": 3,
     "metadata": {},
     "output_type": "execute_result"
    }
   ],
   "source": [
    "(x_train, y_train), (x_test, y_test) = tf.keras.datasets.mnist.load_data() #加载数据集\n",
    "x_train.shape,y_train.shape,x_test.shape,y_test.shape"
   ]
  },
  {
   "cell_type": "code",
   "execution_count": 4,
   "metadata": {},
   "outputs": [],
   "source": [
    "train_data_X = np.array(tf.keras.utils.normalize(x_train, axis=1).reshape(60000, 784))\n",
    "train_data_y = np.array(y_train.reshape(60000, 1))\n",
    "test_data_X = np.array(tf.keras.utils.normalize(x_test, axis = 1).reshape(10000, 784))\n",
    "test_data_y = np.array(y_test)"
   ]
  },
  {
   "cell_type": "code",
   "execution_count": 5,
   "metadata": {},
   "outputs": [
    {
     "data": {
      "text/plain": [
       "(10, 784)"
      ]
     },
     "execution_count": 5,
     "metadata": {},
     "output_type": "execute_result"
    }
   ],
   "source": [
    "W = np.random.rand(10, 784)\n",
    "W.shape"
   ]
  },
  {
   "cell_type": "code",
   "execution_count": 6,
   "metadata": {},
   "outputs": [
    {
     "data": {
      "text/plain": [
       "(1, 10)"
      ]
     },
     "execution_count": 6,
     "metadata": {},
     "output_type": "execute_result"
    }
   ],
   "source": [
    "bias = np.random.rand(1, 10)\n",
    "bias.shape"
   ]
  },
  {
   "cell_type": "code",
   "execution_count": 7,
   "metadata": {},
   "outputs": [],
   "source": [
    "def softmax(z):\n",
    "    if z.ndim == 1:\n",
    "        return np.exp(z) / np.sum(np.exp(z))\n",
    "    elif z.ndim == 2:\n",
    "        exp = np.exp(z)\n",
    "        sum_exp = np.sum(np.exp(z), axis = 1, keepdims = True)\n",
    "        return exp / sum_exp"
   ]
  },
  {
   "cell_type": "code",
   "execution_count": 8,
   "metadata": {},
   "outputs": [],
   "source": [
    "def one_hot(temp):\n",
    "    one_hot = np.zeros( (len(temp), len(np.unique(temp))) )\n",
    "    one_hot[np.arange(len(temp)), temp.astype(np.int).T] = 1\n",
    "    return one_hot"
   ]
  },
  {
   "cell_type": "code",
   "execution_count": 9,
   "metadata": {},
   "outputs": [],
   "source": [
    "def cross_entropy(y, y_hat):\n",
    "    loss = -(1 / len(y)) * np.sum(y * np.log(y_hat))\n",
    "    return loss"
   ]
  },
  {
   "cell_type": "code",
   "execution_count": 10,
   "metadata": {},
   "outputs": [],
   "source": [
    "def compute_y_hat(W, X, b):\n",
    "    return np.dot(X, W.T) + bias"
   ]
  },
  {
   "cell_type": "code",
   "execution_count": 11,
   "metadata": {},
   "outputs": [
    {
     "data": {
      "text/plain": [
       "((60000, 784), (60000, 1), (10, 784), (1, 10))"
      ]
     },
     "execution_count": 11,
     "metadata": {},
     "output_type": "execute_result"
    }
   ],
   "source": [
    "train_data_X.shape, train_data_y.shape, W.shape, bias.shape"
   ]
  },
  {
   "cell_type": "code",
   "execution_count": 12,
   "metadata": {},
   "outputs": [
    {
     "data": {
      "text/plain": [
       "60000"
      ]
     },
     "execution_count": 12,
     "metadata": {},
     "output_type": "execute_result"
    }
   ],
   "source": [
    "len(train_data_X)"
   ]
  },
  {
   "cell_type": "code",
   "execution_count": null,
   "metadata": {},
   "outputs": [],
   "source": [
    "All_loss = []"
   ]
  },
  {
   "cell_type": "code",
   "execution_count": 16,
   "metadata": {},
   "outputs": [
    {
     "name": "stdout",
     "output_type": "stream",
     "text": [
      "i = 0, loss = 0.529628\n",
      "i = 30, loss = 0.524755\n",
      "i = 60, loss = 0.520113\n",
      "i = 90, loss = 0.515683\n",
      "i = 120, loss = 0.511452\n",
      "i = 150, loss = 0.507404\n",
      "i = 180, loss = 0.503527\n",
      "i = 210, loss = 0.499809\n",
      "i = 240, loss = 0.496241\n",
      "i = 270, loss = 0.492813\n",
      "i = 300, loss = 0.489516\n",
      "i = 330, loss = 0.486341\n",
      "i = 360, loss = 0.483282\n",
      "i = 390, loss = 0.480332\n",
      "i = 420, loss = 0.477485\n",
      "i = 450, loss = 0.474735\n",
      "i = 480, loss = 0.472076\n",
      "i = 510, loss = 0.469504\n",
      "i = 540, loss = 0.467014\n",
      "i = 570, loss = 0.464602\n",
      "i = 600, loss = 0.462265\n",
      "i = 630, loss = 0.459997\n",
      "i = 660, loss = 0.457796\n",
      "i = 690, loss = 0.455659\n",
      "i = 720, loss = 0.453583\n",
      "i = 750, loss = 0.451565\n",
      "i = 780, loss = 0.449602\n",
      "i = 810, loss = 0.447692\n",
      "i = 840, loss = 0.445832\n",
      "i = 870, loss = 0.444021\n",
      "i = 900, loss = 0.442256\n",
      "i = 930, loss = 0.440535\n",
      "i = 960, loss = 0.438857\n",
      "i = 990, loss = 0.437220\n"
     ]
    }
   ],
   "source": [
    "lr = 0.1\n",
    "All_loss = []\n",
    "for i in range(1000):\n",
    "    X = train_data_X\n",
    "    y_hat = softmax(compute_y_hat(W, X, bias))\n",
    "    y = one_hot(train_data_y)\n",
    "    loss = cross_entropy(y, y_hat)\n",
    "    All_loss.append(loss)\n",
    "    grad_w = np.dot(X.T, (y_hat - y)) * (1 / len(X))\n",
    "    grad_b = np.sum(y_hat - y) * (1 / len(X))\n",
    "    W = W - lr * grad_w.T\n",
    "    bias = bias - lr * grad_b\n",
    "    if i % 30 == 0:\n",
    "        print(\"i = %d, loss = %f\"%(i, loss))"
   ]
  },
  {
   "cell_type": "code",
   "execution_count": 17,
   "metadata": {},
   "outputs": [
    {
     "data": {
      "text/plain": [
       "[<matplotlib.lines.Line2D at 0x1fa83507648>]"
      ]
     },
     "execution_count": 17,
     "metadata": {},
     "output_type": "execute_result"
    },
    {
     "data": {
      "image/png": "[encoded data removed]",
      "text/plain": [
       "<Figure size 432x288 with 1 Axes>"
      ]
     },
     "metadata": {
      "needs_background": "light"
     },
     "output_type": "display_data"
    }
   ],
   "source": [
    "plt.plot(All_loss)"
   ]
  },
  {
   "cell_type": "code",
   "execution_count": 18,
   "metadata": {},
   "outputs": [],
   "source": [
    "def predict(x):\n",
    "    y_hat = softmax(compute_y_hat(W, x, bias))\n",
    "    return np.argmax(y_hat, axis = 1)[:, np.newaxis]"
   ]
  },
  {
   "cell_type": "code",
   "execution_count": 21,
   "metadata": {},
   "outputs": [
    {
     "data": {
      "text/plain": [
       "((10000, 1), (10000, 1))"
      ]
     },
     "execution_count": 21,
     "metadata": {},
     "output_type": "execute_result"
    }
   ],
   "source": [
    "predict(test_data_X).shape, test_data_y.shape"
   ]
  },
  {
   "cell_type": "code",
   "execution_count": 20,
   "metadata": {},
   "outputs": [],
   "source": [
    "test_data_y = test_data_y.reshape(10000, 1)"
   ]
  },
  {
   "cell_type": "code",
   "execution_count": 22,
   "metadata": {},
   "outputs": [
    {
     "data": {
      "text/plain": [
       "0.8867"
      ]
     },
     "execution_count": 22,
     "metadata": {},
     "output_type": "execute_result"
    }
   ],
   "source": [
    "np.sum(predict(test_data_X) == test_data_y) / len(test_data_y)"
   ]
  },
  {
   "cell_type": "code",
   "execution_count": 23,
   "metadata": {},
   "outputs": [
    {
     "name": "stdout",
     "output_type": "stream",
     "text": [
      "Correct Rate = 88.67%\n"
     ]
    }
   ],
   "source": [
    "print(\"Correct Rate = {}%\".format(np.sum(predict(test_data_X) == test_data_y) / len(test_data_y) * 100))"
   ]
  },
  {
   "cell_type": "code",
   "execution_count": 27,
   "metadata": {},
   "outputs": [],
   "source": [
    "from PIL import Image"
   ]
  },
  {
   "attachments": {
    "3.png": {
     "image/png": "[encoded data removed]"
    }
   },
   "cell_type": "markdown",
   "metadata": {},
   "source": [
    "![3.png](attachment:3.png)\n",
    "图片 3.png"
   ]
  },
  {
   "cell_type": "code",
   "execution_count": 46,
   "metadata": {},
   "outputs": [],
   "source": [
    "img = Image.open(r'3.png').convert('L')\n",
    "# resize的过程\n",
    "if img.size[0] != 28 or img.size[1] != 28:\n",
    "    img = img.resize((28, 28))\n",
    "# 暂存像素值的一维数组\n",
    "arr = []\n",
    "for i in range(28):\n",
    "    for j in range(28):\n",
    "        # mnist 里的颜色是0代表白色（背景），1.0代表黑色\n",
    "        pixel = 1.0 - float(img.getpixel((j, i)))/255.0\n",
    "        # pixel = 255.0 - float(img.getpixel((j, i))) # 如果是0-255的颜色值\n",
    "        arr.append(pixel)"
   ]
  },
  {
   "cell_type": "code",
   "execution_count": 47,
   "metadata": {},
   "outputs": [
    {
     "name": "stdout",
     "output_type": "stream",
     "text": [
      "[[3]]\n"
     ]
    }
   ],
   "source": [
    "print(predict(arr))"
   ]
  },
  {
   "cell_type": "code",
   "execution_count": null,
   "metadata": {},
   "outputs": [],
   "source": []
  }
 ],
 "metadata": {
  "kernelspec": {
   "display_name": "Python 3",
   "language": "python",
   "name": "python3"
  },
  "language_info": {
   "codemirror_mode": {
    "name": "ipython",
    "version": 3
   },
   "file_extension": ".py",
   "mimetype": "text/x-python",
   "name": "python",
   "nbconvert_exporter": "python",
   "pygments_lexer": "ipython3",
   "version": "3.7.6"
  }
 },
 "nbformat": 4,
 "nbformat_minor": 4
}

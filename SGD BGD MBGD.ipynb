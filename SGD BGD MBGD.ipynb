{
 "cells": [
  {
   "cell_type": "code",
   "execution_count": 1,
   "metadata": {},
   "outputs": [],
   "source": [
    "import numpy as np\n",
    "import matplotlib.pyplot as plt"
   ]
  },
  {
   "cell_type": "code",
   "execution_count": 2,
   "metadata": {},
   "outputs": [],
   "source": [
    "x = np.arange(0, 50)"
   ]
  },
  {
   "cell_type": "code",
   "execution_count": 3,
   "metadata": {},
   "outputs": [],
   "source": [
    "np.random.seed(1)"
   ]
  },
  {
   "cell_type": "code",
   "execution_count": 4,
   "metadata": {},
   "outputs": [],
   "source": [
    "sub_base = (np.random.random(50) * 2 - 1) * 5"
   ]
  },
  {
   "cell_type": "code",
   "execution_count": 5,
   "metadata": {},
   "outputs": [],
   "source": [
    "y = 2 * x + sub_base"
   ]
  },
  {
   "cell_type": "code",
   "execution_count": 6,
   "metadata": {},
   "outputs": [
    {
     "data": {
      "text/plain": [
       "<matplotlib.collections.PathCollection at 0x1ec0ca23288>"
      ]
     },
     "execution_count": 6,
     "metadata": {},
     "output_type": "execute_result"
    },
    {
     "data": {
      "image/png": "[encoded data removed]",
      "text/plain": [
       "<Figure size 432x288 with 1 Axes>"
      ]
     },
     "metadata": {
      "needs_background": "light"
     },
     "output_type": "display_data"
    }
   ],
   "source": [
    "plt.scatter(x, y)"
   ]
  },
  {
   "cell_type": "code",
   "execution_count": 7,
   "metadata": {},
   "outputs": [],
   "source": [
    "x = x.reshape(50, 1)\n",
    "y = y.reshape(50, 1)"
   ]
  },
  {
   "cell_type": "code",
   "execution_count": 8,
   "metadata": {},
   "outputs": [],
   "source": [
    "All_data = np.concatenate((x, y), axis = 1)\n",
    "np.random.shuffle(All_data)"
   ]
  },
  {
   "cell_type": "code",
   "execution_count": 9,
   "metadata": {},
   "outputs": [
    {
     "data": {
      "text/plain": [
       "137.53634019399632"
      ]
     },
     "execution_count": 9,
     "metadata": {},
     "output_type": "execute_result"
    }
   ],
   "source": [
    "np.sum(abs(All_data[:, 0] * 2 - All_data[:, 1]))"
   ]
  },
  {
   "cell_type": "code",
   "execution_count": 10,
   "metadata": {},
   "outputs": [],
   "source": [
    "train_data = All_data[:40]\n",
    "test_data = All_data[40:]"
   ]
  },
  {
   "cell_type": "markdown",
   "metadata": {},
   "source": [
    "# SGD"
   ]
  },
  {
   "cell_type": "code",
   "execution_count": 11,
   "metadata": {},
   "outputs": [
    {
     "data": {
      "text/plain": [
       "0.8833060912058098"
      ]
     },
     "execution_count": 11,
     "metadata": {},
     "output_type": "execute_result"
    }
   ],
   "source": [
    "theta = np.random.rand()\n",
    "lr = 0.001\n",
    "epsilon = 200\n",
    "theta"
   ]
  },
  {
   "cell_type": "code",
   "execution_count": 12,
   "metadata": {},
   "outputs": [],
   "source": [
    "N = 100"
   ]
  },
  {
   "cell_type": "code",
   "execution_count": 13,
   "metadata": {},
   "outputs": [
    {
     "name": "stdout",
     "output_type": "stream",
     "text": [
      "Num = 2, theta = 1.474103, loss = 4628.917570\n",
      "Num = 3, theta = 1.744611, loss = 1229.463907\n",
      "Num = 4, theta = 1.992893, loss = 195.270300\n"
     ]
    },
    {
     "data": {
      "text/plain": [
       "25.514433617172664"
      ]
     },
     "execution_count": 13,
     "metadata": {},
     "output_type": "execute_result"
    }
   ],
   "source": [
    "num = 1\n",
    "while True:\n",
    "    np.random.shuffle(train_data)\n",
    "    randint = np.random.randint(0, 40)\n",
    "    rand_x = train_data[randint][0]\n",
    "    rand_y = train_data[randint][1]\n",
    "    grad = rand_x * (rand_x * theta - rand_y)\n",
    "    theta = theta - lr * grad\n",
    "    x = train_data[:, 0]\n",
    "    y = train_data[:, 1]\n",
    "    loss = np.sum(0.5 * ((theta * x - y) ** 2))\n",
    "    num += 1\n",
    "    print(\"Num = %d, theta = %f, loss = %f\"%(num, theta, loss))\n",
    "    if loss < epsilon:\n",
    "        break\n",
    "np.sum(abs(test_data[:, 0] * theta - test_data[:, 1]))"
   ]
  },
  {
   "cell_type": "markdown",
   "metadata": {},
   "source": [
    "# BGD"
   ]
  },
  {
   "cell_type": "code",
   "execution_count": 14,
   "metadata": {},
   "outputs": [
    {
     "data": {
      "text/plain": [
       "0.8289808995501787"
      ]
     },
     "execution_count": 14,
     "metadata": {},
     "output_type": "execute_result"
    }
   ],
   "source": [
    "theta = np.random.rand()\n",
    "lr = 0.001\n",
    "epsilon = 200\n",
    "theta"
   ]
  },
  {
   "cell_type": "code",
   "execution_count": 15,
   "metadata": {},
   "outputs": [
    {
     "name": "stdout",
     "output_type": "stream",
     "text": [
      "Num = 1, theta = 2.118949, loss = 434.375299\n",
      "Num = 2, theta = 2.419397, loss = 3079.472209\n",
      "Num = 3, theta = 1.953509, loss = 226.083312\n",
      "Num = 4, theta = 2.125667, loss = 461.565151\n",
      "Num = 5, theta = 2.267195, loss = 1374.113646\n",
      "Num = 6, theta = 2.063102, loss = 264.946585\n",
      "Num = 7, theta = 1.842124, loss = 585.189081\n",
      "Num = 8, theta = 1.836936, loss = 611.713179\n",
      "Num = 9, theta = 1.930833, loss = 266.616452\n",
      "Num = 10, theta = 2.041871, loss = 227.036838\n",
      "Num = 11, theta = 2.023686, loss = 206.173675\n",
      "Num = 12, theta = 1.892304, loss = 373.671776\n",
      "Num = 13, theta = 1.910970, loss = 315.801368\n",
      "Num = 14, theta = 1.969283, loss = 207.711722\n",
      "Num = 15, theta = 1.927911, loss = 273.049776\n",
      "Num = 16, theta = 1.883177, loss = 406.077785\n",
      "Num = 17, theta = 2.018522, loss = 202.201664\n",
      "Num = 18, theta = 2.011118, loss = 198.014036\n"
     ]
    },
    {
     "data": {
      "text/plain": [
       "25.077044586885673"
      ]
     },
     "execution_count": 15,
     "metadata": {},
     "output_type": "execute_result"
    }
   ],
   "source": [
    "num = 1\n",
    "while True:\n",
    "    np.random.shuffle(train_data)\n",
    "    for n in train_data:\n",
    "        grad = n[0] * (n[0] * theta - n[1])\n",
    "        theta = theta - lr * grad\n",
    "    x = train_data[:, 0]\n",
    "    y = train_data[:, 1]\n",
    "    loss = np.sum(0.5 * ((theta * x - y) ** 2))\n",
    "    print(\"Num = %d, theta = %f, loss = %f\"%(num, theta, loss))\n",
    "    num += 1\n",
    "    if loss < epsilon:\n",
    "        break\n",
    "np.sum(abs(test_data[:, 0] * theta - test_data[:, 1]))"
   ]
  },
  {
   "cell_type": "markdown",
   "metadata": {},
   "source": [
    "# MBGD"
   ]
  },
  {
   "cell_type": "code",
   "execution_count": 16,
   "metadata": {},
   "outputs": [],
   "source": [
    "theta = np.random.rand()\n",
    "lr = 0.001\n",
    "epsilon = 200\n",
    "theta\n",
    "N = 100\n",
    "batch_size = 3"
   ]
  },
  {
   "cell_type": "code",
   "execution_count": 17,
   "metadata": {},
   "outputs": [
    {
     "name": "stdout",
     "output_type": "stream",
     "text": [
      "Num = 1, theta = 1.634720, loss = 2324.615277\n",
      "Num = 2, theta = 1.886571, loss = 393.711139\n",
      "Num = 3, theta = 1.947347, loss = 235.450678\n",
      "Num = 4, theta = 2.053156, loss = 245.370123\n",
      "Num = 5, theta = 1.899229, loss = 350.887618\n",
      "Num = 6, theta = 2.029104, loss = 211.268963\n",
      "Num = 7, theta = 2.025078, loss = 207.392498\n",
      "Num = 8, theta = 1.975312, loss = 202.818132\n",
      "Num = 9, theta = 1.982063, loss = 198.735734\n"
     ]
    },
    {
     "data": {
      "text/plain": [
       "25.77436020537631"
      ]
     },
     "execution_count": 17,
     "metadata": {},
     "output_type": "execute_result"
    }
   ],
   "source": [
    "num = 1\n",
    "while True:\n",
    "    np.random.shuffle(train_data)\n",
    "    for n in range(0, 40, batch_size):\n",
    "        rand_x = train_data[n][0]\n",
    "        rand_y = train_data[n][1]\n",
    "        grad = rand_x * (rand_x * theta - rand_y)\n",
    "        theta = theta - lr * grad\n",
    "    x = train_data[:, 0]\n",
    "    y = train_data[:, 1]\n",
    "    loss = np.sum(0.5 * ((theta * x - y) ** 2))\n",
    "    print(\"Num = %d, theta = %f, loss = %f\"%(num, theta, loss))\n",
    "    num += 1\n",
    "    if loss < epsilon:\n",
    "        break\n",
    "np.sum(abs(test_data[:, 0] * theta - test_data[:, 1]))"
   ]
  },
  {
   "cell_type": "code",
   "execution_count": null,
   "metadata": {},
   "outputs": [],
   "source": []
  }
 ],
 "metadata": {
  "kernelspec": {
   "display_name": "Python 3",
   "language": "python",
   "name": "python3"
  },
  "language_info": {
   "codemirror_mode": {
    "name": "ipython",
    "version": 3
   },
   "file_extension": ".py",
   "mimetype": "text/x-python",
   "name": "python",
   "nbconvert_exporter": "python",
   "pygments_lexer": "ipython3",
   "version": "3.7.6"
  }
 },
 "nbformat": 4,
 "nbformat_minor": 4
}
